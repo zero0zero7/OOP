{
 "cells": [
  {
   "cell_type": "markdown",
   "metadata": {},
   "source": [
    "# Object-Orientated Programming"
   ]
  },
  {
   "cell_type": "markdown",
   "metadata": {},
   "source": [
    "Class: Blueprint that defines properties and behavior of an object.\n",
    "Instance: A particular object or entity of a given class.\n",
    "\n",
    "\n",
    "\n",
    "Initialisation\n",
    "\n",
    "def __init__(self, ): \n",
    "    • called when the object is first initialized. \n",
    "    • self argument is a reference to the object calling the method. \n",
    "    • allows the method to reference properties and other methods of the class.\n",
    "  \n",
    "class Bicycle (object): \n",
    "    def __init__(self, model, colour, price): \n",
    "        self._model = model \n",
    "        self._colour = colour \n",
    "        self._price = price \n",
    "        self._stock = 0\n",
    "        \n",
    "        \n",
    "        \n",
    "Accessors & Mutators\n",
    "    •called to obtain or reset the value of an attribute of an instance\n",
    "    \n",
    "def get_model(self):\n",
    "    return self._model\n",
    "def get_colour(self):\n",
    "    return self._colour\n",
    "def get_price(self):\n",
    "    return self._price\n",
    "    \n",
    "def set_colour(self, new_colour):\n",
    "    self._colour = new_colour\n",
    "def set_price(self, new_price):\n",
    "    self._price = new_price\n",
    "    \n",
    "    \n",
    "\n",
    "Inheritance\n",
    "    • Classes can inherit from other classes. \n",
    "    • A class can inherit attributes and behaviour methods from another class, called the superclass. \n",
    "    • A class which inherits from a superclass is called a subclass, also called child class.\n",
    "    • super().\n",
    "\n",
    "\n",
    "class Person(object):\n",
    "    def __init__(self, name, age):\n",
    "        self.name = name\n",
    "        self.age = age\n",
    "\n",
    "    def __str__(self):\n",
    "        temp = str(self.name + ' is ' + str(self.age) + ' years old.')\n",
    "        return temp\n",
    "\n",
    "\n",
    "class Child(Person):\n",
    "    def __init__(self, name, age, toy):\n",
    "        super().__init__(name, age)\n",
    "        self.toy = toy\n",
    "\n",
    "    def __str__(self):\n",
    "        temp = super().__str__()\n",
    "        temp += '\\n' + (self.name + ' has a toy ' + self.toy)\n",
    "        return temp\n",
    "\n",
    "Jon = Child('Jon', 5, 'car')\n",
    "print(Jon)\n",
    "        \n",
    ">>> Jon is 5 years old.\n",
    "    Jon has a toy car\n",
    "    \n"
   ]
  },
  {
   "cell_type": "markdown",
   "metadata": {},
   "source": []
  }
 ],
 "metadata": {
  "kernelspec": {
   "display_name": "Python 3",
   "language": "python",
   "name": "python3"
  },
  "language_info": {
   "codemirror_mode": {
    "name": "ipython",
    "version": 3
   },
   "file_extension": ".py",
   "mimetype": "text/x-python",
   "name": "python",
   "nbconvert_exporter": "python",
   "pygments_lexer": "ipython3",
   "version": "3.6.6"
  }
 },
 "nbformat": 4,
 "nbformat_minor": 2
}
